{
 "cells": [
  {
   "cell_type": "code",
   "execution_count": 4,
   "metadata": {},
   "outputs": [],
   "source": [
    "import classy\n"
   ]
  },
  {
   "cell_type": "code",
   "execution_count": 5,
   "metadata": {},
   "outputs": [],
   "source": [
    "cosmo = classy.Class()\n",
    "cosmo.compute()"
   ]
  },
  {
   "cell_type": "code",
   "execution_count": 16,
   "metadata": {},
   "outputs": [
    {
     "data": {
      "text/plain": [
       "['Omega0_cdm',\n",
       " 'Omega0_k',\n",
       " 'Omega0_m',\n",
       " 'Omega_Lambda',\n",
       " 'Omega_b',\n",
       " 'Omega_g',\n",
       " 'Omega_m',\n",
       " 'Omega_nu',\n",
       " 'Omega_r']"
      ]
     },
     "execution_count": 16,
     "metadata": {},
     "output_type": "execute_result"
    }
   ],
   "source": [
    "[n for n in dir(cosmo) if n.startswith(\"Omega\")]"
   ]
  },
  {
   "cell_type": "code",
   "execution_count": 10,
   "metadata": {},
   "outputs": [
    {
     "name": "stdout",
     "output_type": "stream",
     "text": [
      "['Hubble', 'Neff', 'Om_m', 'Omega0_cdm', 'Omega0_k', 'Omega0_m', 'Omega_Lambda', 'Omega_b', 'Omega_g', 'Omega_m', 'Omega_nu', 'Omega_r', 'T_cmb', '__call__', '__class__', '__delattr__', '__dir__', '__doc__', '__eq__', '__format__', '__ge__', '__getattribute__', '__gt__', '__hash__', '__init__', '__init_subclass__', '__le__', '__lt__', '__ne__', '__new__', '__pyx_vtable__', '__reduce__', '__reduce_ex__', '__repr__', '__setattr__', '__setstate__', '__sizeof__', '__str__', '__subclasshook__', '_check_task_dependency', '_fillparfile', '_pars_check', 'age', 'angular_distance', 'baryon_temperature', 'compute', 'density_cl', 'empty', 'get_background', 'get_current_derived_parameters', 'get_perturbations', 'get_pk', 'get_pk_and_k_and_z', 'get_pk_array', 'get_pk_cb', 'get_pk_cb_array', 'get_pk_cb_lin', 'get_pk_lin', 'get_primordial', 'get_thermodynamics', 'get_transfer', 'h', 'ionization_fraction', 'k_eq', 'lensed_cl', 'luminosity_distance', 'n_s', 'nonlinear_hmcode_sigma8', 'nonlinear_hmcode_sigma8_cb', 'nonlinear_hmcode_sigmadisp', 'nonlinear_hmcode_sigmadisp100', 'nonlinear_hmcode_sigmadisp100_cb', 'nonlinear_hmcode_sigmadisp_cb', 'nonlinear_hmcode_sigmaprime', 'nonlinear_hmcode_sigmaprime_cb', 'nonlinear_hmcode_window_nfw', 'nonlinear_method', 'nonlinear_scale', 'nonlinear_scale_cb', 'omega_b', 'pars', 'pk', 'pk_cb', 'pk_cb_lin', 'pk_lin', 'pk_tilt', 'raw_cl', 'rs_drag', 'scale_independent_growth_factor', 'scale_independent_growth_factor_f', 'set', 'set_default', 'sigma', 'sigma8', 'sigma8_cb', 'sigma_cb', 'state', 'struct_cleanup', 'tau_reio', 'theta_s_100', 'theta_star_100', 'z_of_r', 'z_of_tau', 'z_reio']\n"
     ]
    }
   ],
   "source": [
    "print(dir(cosmo))"
   ]
  },
  {
   "cell_type": "code",
   "execution_count": 22,
   "metadata": {},
   "outputs": [
    {
     "data": {
      "text/plain": [
       "{'z': array([1.00000000e+14, 9.93048659e+13, 9.86145640e+13, ...,\n",
       "        1.37685206e-02, 6.68404613e-03, 0.00000000e+00]),\n",
       " 'proper time [Gyr]': array([7.55850363e-26, 7.66469305e-26, 7.77237432e-26, ...,\n",
       "        1.35980751e+01, 1.36990895e+01, 1.37953593e+01]),\n",
       " 'conf. time [Mpc]': array([4.63478500e-09, 4.66752681e-09, 4.70026862e-09, ...,\n",
       "        1.41041433e+04, 1.41354310e+04, 1.41650454e+04]),\n",
       " 'H [1/Mpc]': array([2.15754595e+22, 2.12765453e+22, 2.09817724e+22, ...,\n",
       "        2.26810692e-04, 2.26051453e-04, 2.25342560e-04]),\n",
       " 'comov. dist.': array([14165.04541243, 14165.04541243, 14165.04541243, ...,\n",
       "           60.90213826,    29.61446144,     0.        ]),\n",
       " 'ang.diam.dist.': array([1.41650454e-10, 1.42642007e-10, 1.43640501e-10, ...,\n",
       "        6.00749945e+01, 2.94178313e+01, 0.00000000e+00]),\n",
       " 'lum. dist.': array([1.41650454e+18, 1.40665794e+18, 1.39687978e+18, ...,\n",
       "        6.17406706e+01, 2.98124059e+01, 0.00000000e+00]),\n",
       " 'comov.snd.hrz.': array([2.67595816e-09, 2.69468987e-09, 2.71355270e-09, ...,\n",
       "        1.22944806e+03, 1.23014992e+03, 1.23081197e+03]),\n",
       " '(.)rho_g': array([2.75156054e+44, 2.67584646e+44, 2.60221579e+44, ...,\n",
       "        2.90625875e-12, 2.82586764e-12, 2.75156054e-12]),\n",
       " '(.)rho_b': array([2.45139060e+33, 2.40062379e+33, 2.35090832e+33, ...,\n",
       "        2.55404721e-09, 2.50087552e-09, 2.45139060e-09]),\n",
       " '(.)rho_cdm': array([1.33940814e+34, 1.31166981e+34, 1.28450592e+34, ...,\n",
       "        1.39549838e-08, 1.36644605e-08, 1.33940814e-08]),\n",
       " '(.)rho_lambda': array([3.49291424e-08, 3.49291424e-08, 3.49291424e-08, ...,\n",
       "        3.49291424e-08, 3.49291424e-08, 3.49291424e-08]),\n",
       " '(.)rho_ur': array([1.90344398e+44, 1.85106733e+44, 1.80013193e+44, ...,\n",
       "        2.01045939e-12, 1.95484732e-12, 1.90344398e-12]),\n",
       " '(.)rho_crit': array([4.65500451e+44, 4.52691379e+44, 4.40234771e+44, ...,\n",
       "        5.14430902e-08, 5.10992592e-08, 5.07792694e-08]),\n",
       " '(.)rho_tot': array([4.65500451e+44, 4.52691379e+44, 4.40234771e+44, ...,\n",
       "        5.14430902e-08, 5.10992592e-08, 5.07792694e-08]),\n",
       " '(.)p_tot': array([ 1.55166817e+44,  1.50897126e+44,  1.46744924e+44, ...,\n",
       "        -3.49275035e-08, -3.49275489e-08, -3.49275908e-08]),\n",
       " '(.)p_tot_prime': array([-1.33911815e+53, -1.29321741e+53, -1.24889001e+53, ...,\n",
       "        -1.46669149e-15, -1.43134954e-15, -1.39862751e-15]),\n",
       " 'gr.fac. D': array([5.53686648e-20, 7.72460838e-08, 1.54492168e-07, ...,\n",
       "        9.92799613e-01, 9.96499973e-01, 1.00000000e+00]),\n",
       " 'gr.fac. f': array([2.00000000e+14, 1.43356562e+02, 7.16782808e+01, ...,\n",
       "        5.32639786e-01, 5.28356211e-01, 5.24291074e-01])}"
      ]
     },
     "execution_count": 22,
     "metadata": {},
     "output_type": "execute_result"
    }
   ],
   "source": [
    "cosmo.get"
   ]
  },
  {
   "cell_type": "code",
   "execution_count": null,
   "metadata": {},
   "outputs": [],
   "source": []
  }
 ],
 "metadata": {
  "kernelspec": {
   "display_name": "cosmo-api",
   "language": "python",
   "name": "python3"
  },
  "language_info": {
   "codemirror_mode": {
    "name": "ipython",
    "version": 3
   },
   "file_extension": ".py",
   "mimetype": "text/x-python",
   "name": "python",
   "nbconvert_exporter": "python",
   "pygments_lexer": "ipython3",
   "version": "3.9.16"
  },
  "orig_nbformat": 4
 },
 "nbformat": 4,
 "nbformat_minor": 2
}
